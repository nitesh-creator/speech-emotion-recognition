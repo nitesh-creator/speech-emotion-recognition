{
 "cells": [
  {
   "cell_type": "code",
   "execution_count": 2,
   "id": "31d12487",
   "metadata": {},
   "outputs": [],
   "source": [
    "import speech_recognition as sr"
   ]
  },
  {
   "cell_type": "code",
   "execution_count": 3,
   "id": "e0360b82",
   "metadata": {},
   "outputs": [],
   "source": [
    "r=sr.Recognizer()"
   ]
  },
  {
   "cell_type": "code",
   "execution_count": 4,
   "id": "716410ea",
   "metadata": {},
   "outputs": [
    {
     "name": "stderr",
     "output_type": "stream",
     "text": [
      "[nltk_data] Downloading package vader_lexicon to\n",
      "[nltk_data]     C:\\Users\\niteshiit\\AppData\\Roaming\\nltk_data...\n",
      "[nltk_data]   Package vader_lexicon is already up-to-date!\n"
     ]
    },
    {
     "data": {
      "text/plain": [
       "True"
      ]
     },
     "execution_count": 4,
     "metadata": {},
     "output_type": "execute_result"
    }
   ],
   "source": [
    "import nltk\n",
    "nltk.download('vader_lexicon')"
   ]
  },
  {
   "cell_type": "code",
   "execution_count": 5,
   "id": "05abac6e",
   "metadata": {},
   "outputs": [],
   "source": [
    "from nltk.sentiment.vader import SentimentIntensityAnalyzer\n",
    "\n",
    "sid = SentimentIntensityAnalyzer()"
   ]
  },
  {
   "cell_type": "code",
   "execution_count": null,
   "id": "2fafc7dd",
   "metadata": {},
   "outputs": [],
   "source": []
  },
  {
   "cell_type": "code",
   "execution_count": 8,
   "id": "072a2b37",
   "metadata": {},
   "outputs": [
    {
     "name": "stdout",
     "output_type": "stream",
     "text": [
      "speak say anything\n",
      "You said I have lost my watch I have lost my\n",
      "Emotion:------Negative\n",
      "done listening\n"
     ]
    }
   ],
   "source": [
    "with sr.Microphone() as source:\n",
    "    r.adjust_for_ambient_noise(source)\n",
    "    print('speak say anything')\n",
    "    try:\n",
    "    # wait for speech for a maximum of 3 seconds\n",
    "    # listen to speech for a maximum of 3 seconds\n",
    "        audio = r.listen(source, timeout=10, phrase_time_limit=10)\n",
    "        text=r.recognize_google(audio)\n",
    "        pt=sid.polarity_scores(text)\n",
    "        print(\"You said \" + r.recognize_google(audio))\n",
    "        if pt['compound']>0.5:\n",
    "            print('Emotion:----positive')\n",
    "        elif pt['compound']<0:\n",
    "            print(\"Emotion:------Negative\")\n",
    "        else:\n",
    "            print(\"Emotion:----neutral\")\n",
    "        \n",
    "    except Exception as e:\n",
    "        # a timeouterror exception will be thrown if the timeout is reached\n",
    "        print(e) \n",
    "    print(\"done listening\")"
   ]
  },
  {
   "cell_type": "code",
   "execution_count": null,
   "id": "e946ba93",
   "metadata": {},
   "outputs": [],
   "source": []
  },
  {
   "cell_type": "code",
   "execution_count": null,
   "id": "c2f9a84c",
   "metadata": {},
   "outputs": [],
   "source": []
  },
  {
   "cell_type": "code",
   "execution_count": null,
   "id": "b725be5f",
   "metadata": {},
   "outputs": [],
   "source": []
  },
  {
   "cell_type": "code",
   "execution_count": null,
   "id": "a7499b1c",
   "metadata": {},
   "outputs": [],
   "source": []
  },
  {
   "cell_type": "code",
   "execution_count": null,
   "id": "a863c582",
   "metadata": {},
   "outputs": [],
   "source": []
  },
  {
   "cell_type": "code",
   "execution_count": null,
   "id": "d1ecf47f",
   "metadata": {},
   "outputs": [],
   "source": []
  },
  {
   "cell_type": "code",
   "execution_count": null,
   "id": "97079c3f",
   "metadata": {},
   "outputs": [],
   "source": []
  }
 ],
 "metadata": {
  "kernelspec": {
   "display_name": "Python 3",
   "language": "python",
   "name": "python3"
  },
  "language_info": {
   "codemirror_mode": {
    "name": "ipython",
    "version": 3
   },
   "file_extension": ".py",
   "mimetype": "text/x-python",
   "name": "python",
   "nbconvert_exporter": "python",
   "pygments_lexer": "ipython3",
   "version": "3.8.5"
  }
 },
 "nbformat": 4,
 "nbformat_minor": 5
}
